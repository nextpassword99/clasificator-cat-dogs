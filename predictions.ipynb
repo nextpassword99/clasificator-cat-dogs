{
 "cells": [
  {
   "cell_type": "code",
   "execution_count": null,
   "metadata": {},
   "outputs": [
    {
     "name": "stderr",
     "output_type": "stream",
     "text": [
      "WARNING:absl:Compiled the loaded model, but the compiled metrics have yet to be built. `model.compile_metrics` will be empty until you train or evaluate the model.\n"
     ]
    }
   ],
   "source": [
    "from tensorflow.keras.models import load_model\n",
    "import cv2\n",
    "import numpy as np\n",
    "\n",
    "model = load_model('models/cat_dog_classifier.h5')"
   ]
  },
  {
   "cell_type": "code",
   "execution_count": 7,
   "metadata": {},
   "outputs": [
    {
     "name": "stdout",
     "output_type": "stream",
     "text": [
      "\u001b[1m1/1\u001b[0m \u001b[32m━━━━━━━━━━━━━━━━━━━━\u001b[0m\u001b[37m\u001b[0m \u001b[1m0s\u001b[0m 51ms/step\n",
      "[[0.5045346]]\n"
     ]
    }
   ],
   "source": [
    "def prepare(filepath):\n",
    "    img_array = cv2.imread(filepath)\n",
    "    img_array = cv2.resize(img_array, (200, 200))\n",
    "    img_array = img_array / 255.0\n",
    "    return np.array([img_array])\n",
    "\n",
    "\n",
    "model_out = model.predict(prepare('data/raw/dog1.webp'))\n",
    "print(model_out)"
   ]
  }
 ],
 "metadata": {
  "kernelspec": {
   "display_name": "clasificator-cat-dogs",
   "language": "python",
   "name": "python3"
  },
  "language_info": {
   "codemirror_mode": {
    "name": "ipython",
    "version": 3
   },
   "file_extension": ".py",
   "mimetype": "text/x-python",
   "name": "python",
   "nbconvert_exporter": "python",
   "pygments_lexer": "ipython3",
   "version": "3.10.0"
  }
 },
 "nbformat": 4,
 "nbformat_minor": 2
}
